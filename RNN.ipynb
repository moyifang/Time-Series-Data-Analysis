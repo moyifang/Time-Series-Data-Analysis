{
  "cells": [
    {
      "cell_type": "markdown",
      "source": [
        "# Homework4 --RNN"
      ],
      "metadata": {
        "id": "SxV3ZQp-0b6m"
      }
    },
    {
      "cell_type": "code",
      "execution_count": 30,
      "metadata": {
        "id": "KOl9pSV5MdPs"
      },
      "outputs": [],
      "source": [
        "import pandas as pd\n",
        "import numpy  as np\n",
        "import matplotlib.pyplot as plt\n",
        "import seaborn as sns\n",
        "import pandas as pd\n",
        "import numpy  as np\n",
        "import matplotlib.pyplot as plt\n",
        "import seaborn as sns\n",
        "from sklearn.preprocessing import MinMaxScaler\n",
        "from sklearn.metrics import mean_squared_error\n",
        "from keras.models import Sequential\n",
        "from keras.layers import Dense\n",
        "from keras.callbacks import ModelCheckpoint, EarlyStopping\n",
        "from keras.layers import Dense, SimpleRNN, Dropout"
      ]
    },
    {
      "cell_type": "markdown",
      "metadata": {
        "id": "dcjohn-sMdPw"
      },
      "source": [
        "# Load data\n",
        "## the dataset is too large, to decrease the computing time, we use the weekly sale data of store 1\n",
        "\n"
      ]
    },
    {
      "cell_type": "code",
      "source": [
        "src_clean = '../content/clean_data.zip'\n",
        "df_clean = pd.read_csv(src_clean,compression=\"zip\")\n",
        "df_clean[\"Date\"] = pd.to_datetime(df_clean[\"Date\"])\n",
        "df_clean = df_clean.loc[(df_clean.Store == 1)]\n",
        "df_clean.set_index('Date', inplace=True)\n",
        "\n",
        "df_clean.head()"
      ],
      "metadata": {
        "colab": {
          "base_uri": "https://localhost:8080/",
          "height": 435
        },
        "id": "DaamRoRDMmpB",
        "outputId": "6036b8e2-1931-437b-a17a-8e444475101e"
      },
      "execution_count": 2,
      "outputs": [
        {
          "output_type": "execute_result",
          "data": {
            "text/plain": [
              "            Unnamed: 0  Store  Dept  Weekly_Sales  IsHoliday  Temperature  \\\n",
              "Date                                                                        \n",
              "2010-02-05           0      1     1      24924.50      False        42.31   \n",
              "2010-02-05           1      1     2      50605.27      False        42.31   \n",
              "2010-02-05           2      1     3      13740.12      False        42.31   \n",
              "2010-02-05           3      1     4      39954.04      False        42.31   \n",
              "2010-02-05           4      1     5      32229.38      False        42.31   \n",
              "\n",
              "            Fuel_Price  MarkDown1  MarkDown2  MarkDown3  ...  Unemployment  \\\n",
              "Date                                                     ...                 \n",
              "2010-02-05       2.572        0.0        0.0        0.0  ...         8.106   \n",
              "2010-02-05       2.572        0.0        0.0        0.0  ...         8.106   \n",
              "2010-02-05       2.572        0.0        0.0        0.0  ...         8.106   \n",
              "2010-02-05       2.572        0.0        0.0        0.0  ...         8.106   \n",
              "2010-02-05       2.572        0.0        0.0        0.0  ...         8.106   \n",
              "\n",
              "            Type    Size  Super_Bowl Labor_Day  Thanksgiving  Christmas  week  \\\n",
              "Date                                                                            \n",
              "2010-02-05     A  151315       False     False         False      False     5   \n",
              "2010-02-05     A  151315       False     False         False      False     5   \n",
              "2010-02-05     A  151315       False     False         False      False     5   \n",
              "2010-02-05     A  151315       False     False         False      False     5   \n",
              "2010-02-05     A  151315       False     False         False      False     5   \n",
              "\n",
              "            month  year  \n",
              "Date                     \n",
              "2010-02-05      2  2010  \n",
              "2010-02-05      2  2010  \n",
              "2010-02-05      2  2010  \n",
              "2010-02-05      2  2010  \n",
              "2010-02-05      2  2010  \n",
              "\n",
              "[5 rows x 23 columns]"
            ],
            "text/html": [
              "\n",
              "  <div id=\"df-ad1a7420-bce4-436e-9ad9-f5a8c00faa52\">\n",
              "    <div class=\"colab-df-container\">\n",
              "      <div>\n",
              "<style scoped>\n",
              "    .dataframe tbody tr th:only-of-type {\n",
              "        vertical-align: middle;\n",
              "    }\n",
              "\n",
              "    .dataframe tbody tr th {\n",
              "        vertical-align: top;\n",
              "    }\n",
              "\n",
              "    .dataframe thead th {\n",
              "        text-align: right;\n",
              "    }\n",
              "</style>\n",
              "<table border=\"1\" class=\"dataframe\">\n",
              "  <thead>\n",
              "    <tr style=\"text-align: right;\">\n",
              "      <th></th>\n",
              "      <th>Unnamed: 0</th>\n",
              "      <th>Store</th>\n",
              "      <th>Dept</th>\n",
              "      <th>Weekly_Sales</th>\n",
              "      <th>IsHoliday</th>\n",
              "      <th>Temperature</th>\n",
              "      <th>Fuel_Price</th>\n",
              "      <th>MarkDown1</th>\n",
              "      <th>MarkDown2</th>\n",
              "      <th>MarkDown3</th>\n",
              "      <th>...</th>\n",
              "      <th>Unemployment</th>\n",
              "      <th>Type</th>\n",
              "      <th>Size</th>\n",
              "      <th>Super_Bowl</th>\n",
              "      <th>Labor_Day</th>\n",
              "      <th>Thanksgiving</th>\n",
              "      <th>Christmas</th>\n",
              "      <th>week</th>\n",
              "      <th>month</th>\n",
              "      <th>year</th>\n",
              "    </tr>\n",
              "    <tr>\n",
              "      <th>Date</th>\n",
              "      <th></th>\n",
              "      <th></th>\n",
              "      <th></th>\n",
              "      <th></th>\n",
              "      <th></th>\n",
              "      <th></th>\n",
              "      <th></th>\n",
              "      <th></th>\n",
              "      <th></th>\n",
              "      <th></th>\n",
              "      <th></th>\n",
              "      <th></th>\n",
              "      <th></th>\n",
              "      <th></th>\n",
              "      <th></th>\n",
              "      <th></th>\n",
              "      <th></th>\n",
              "      <th></th>\n",
              "      <th></th>\n",
              "      <th></th>\n",
              "      <th></th>\n",
              "    </tr>\n",
              "  </thead>\n",
              "  <tbody>\n",
              "    <tr>\n",
              "      <th>2010-02-05</th>\n",
              "      <td>0</td>\n",
              "      <td>1</td>\n",
              "      <td>1</td>\n",
              "      <td>24924.50</td>\n",
              "      <td>False</td>\n",
              "      <td>42.31</td>\n",
              "      <td>2.572</td>\n",
              "      <td>0.0</td>\n",
              "      <td>0.0</td>\n",
              "      <td>0.0</td>\n",
              "      <td>...</td>\n",
              "      <td>8.106</td>\n",
              "      <td>A</td>\n",
              "      <td>151315</td>\n",
              "      <td>False</td>\n",
              "      <td>False</td>\n",
              "      <td>False</td>\n",
              "      <td>False</td>\n",
              "      <td>5</td>\n",
              "      <td>2</td>\n",
              "      <td>2010</td>\n",
              "    </tr>\n",
              "    <tr>\n",
              "      <th>2010-02-05</th>\n",
              "      <td>1</td>\n",
              "      <td>1</td>\n",
              "      <td>2</td>\n",
              "      <td>50605.27</td>\n",
              "      <td>False</td>\n",
              "      <td>42.31</td>\n",
              "      <td>2.572</td>\n",
              "      <td>0.0</td>\n",
              "      <td>0.0</td>\n",
              "      <td>0.0</td>\n",
              "      <td>...</td>\n",
              "      <td>8.106</td>\n",
              "      <td>A</td>\n",
              "      <td>151315</td>\n",
              "      <td>False</td>\n",
              "      <td>False</td>\n",
              "      <td>False</td>\n",
              "      <td>False</td>\n",
              "      <td>5</td>\n",
              "      <td>2</td>\n",
              "      <td>2010</td>\n",
              "    </tr>\n",
              "    <tr>\n",
              "      <th>2010-02-05</th>\n",
              "      <td>2</td>\n",
              "      <td>1</td>\n",
              "      <td>3</td>\n",
              "      <td>13740.12</td>\n",
              "      <td>False</td>\n",
              "      <td>42.31</td>\n",
              "      <td>2.572</td>\n",
              "      <td>0.0</td>\n",
              "      <td>0.0</td>\n",
              "      <td>0.0</td>\n",
              "      <td>...</td>\n",
              "      <td>8.106</td>\n",
              "      <td>A</td>\n",
              "      <td>151315</td>\n",
              "      <td>False</td>\n",
              "      <td>False</td>\n",
              "      <td>False</td>\n",
              "      <td>False</td>\n",
              "      <td>5</td>\n",
              "      <td>2</td>\n",
              "      <td>2010</td>\n",
              "    </tr>\n",
              "    <tr>\n",
              "      <th>2010-02-05</th>\n",
              "      <td>3</td>\n",
              "      <td>1</td>\n",
              "      <td>4</td>\n",
              "      <td>39954.04</td>\n",
              "      <td>False</td>\n",
              "      <td>42.31</td>\n",
              "      <td>2.572</td>\n",
              "      <td>0.0</td>\n",
              "      <td>0.0</td>\n",
              "      <td>0.0</td>\n",
              "      <td>...</td>\n",
              "      <td>8.106</td>\n",
              "      <td>A</td>\n",
              "      <td>151315</td>\n",
              "      <td>False</td>\n",
              "      <td>False</td>\n",
              "      <td>False</td>\n",
              "      <td>False</td>\n",
              "      <td>5</td>\n",
              "      <td>2</td>\n",
              "      <td>2010</td>\n",
              "    </tr>\n",
              "    <tr>\n",
              "      <th>2010-02-05</th>\n",
              "      <td>4</td>\n",
              "      <td>1</td>\n",
              "      <td>5</td>\n",
              "      <td>32229.38</td>\n",
              "      <td>False</td>\n",
              "      <td>42.31</td>\n",
              "      <td>2.572</td>\n",
              "      <td>0.0</td>\n",
              "      <td>0.0</td>\n",
              "      <td>0.0</td>\n",
              "      <td>...</td>\n",
              "      <td>8.106</td>\n",
              "      <td>A</td>\n",
              "      <td>151315</td>\n",
              "      <td>False</td>\n",
              "      <td>False</td>\n",
              "      <td>False</td>\n",
              "      <td>False</td>\n",
              "      <td>5</td>\n",
              "      <td>2</td>\n",
              "      <td>2010</td>\n",
              "    </tr>\n",
              "  </tbody>\n",
              "</table>\n",
              "<p>5 rows × 23 columns</p>\n",
              "</div>\n",
              "      <button class=\"colab-df-convert\" onclick=\"convertToInteractive('df-ad1a7420-bce4-436e-9ad9-f5a8c00faa52')\"\n",
              "              title=\"Convert this dataframe to an interactive table.\"\n",
              "              style=\"display:none;\">\n",
              "        \n",
              "  <svg xmlns=\"http://www.w3.org/2000/svg\" height=\"24px\"viewBox=\"0 0 24 24\"\n",
              "       width=\"24px\">\n",
              "    <path d=\"M0 0h24v24H0V0z\" fill=\"none\"/>\n",
              "    <path d=\"M18.56 5.44l.94 2.06.94-2.06 2.06-.94-2.06-.94-.94-2.06-.94 2.06-2.06.94zm-11 1L8.5 8.5l.94-2.06 2.06-.94-2.06-.94L8.5 2.5l-.94 2.06-2.06.94zm10 10l.94 2.06.94-2.06 2.06-.94-2.06-.94-.94-2.06-.94 2.06-2.06.94z\"/><path d=\"M17.41 7.96l-1.37-1.37c-.4-.4-.92-.59-1.43-.59-.52 0-1.04.2-1.43.59L10.3 9.45l-7.72 7.72c-.78.78-.78 2.05 0 2.83L4 21.41c.39.39.9.59 1.41.59.51 0 1.02-.2 1.41-.59l7.78-7.78 2.81-2.81c.8-.78.8-2.07 0-2.86zM5.41 20L4 18.59l7.72-7.72 1.47 1.35L5.41 20z\"/>\n",
              "  </svg>\n",
              "      </button>\n",
              "      \n",
              "  <style>\n",
              "    .colab-df-container {\n",
              "      display:flex;\n",
              "      flex-wrap:wrap;\n",
              "      gap: 12px;\n",
              "    }\n",
              "\n",
              "    .colab-df-convert {\n",
              "      background-color: #E8F0FE;\n",
              "      border: none;\n",
              "      border-radius: 50%;\n",
              "      cursor: pointer;\n",
              "      display: none;\n",
              "      fill: #1967D2;\n",
              "      height: 32px;\n",
              "      padding: 0 0 0 0;\n",
              "      width: 32px;\n",
              "    }\n",
              "\n",
              "    .colab-df-convert:hover {\n",
              "      background-color: #E2EBFA;\n",
              "      box-shadow: 0px 1px 2px rgba(60, 64, 67, 0.3), 0px 1px 3px 1px rgba(60, 64, 67, 0.15);\n",
              "      fill: #174EA6;\n",
              "    }\n",
              "\n",
              "    [theme=dark] .colab-df-convert {\n",
              "      background-color: #3B4455;\n",
              "      fill: #D2E3FC;\n",
              "    }\n",
              "\n",
              "    [theme=dark] .colab-df-convert:hover {\n",
              "      background-color: #434B5C;\n",
              "      box-shadow: 0px 1px 3px 1px rgba(0, 0, 0, 0.15);\n",
              "      filter: drop-shadow(0px 1px 2px rgba(0, 0, 0, 0.3));\n",
              "      fill: #FFFFFF;\n",
              "    }\n",
              "  </style>\n",
              "\n",
              "      <script>\n",
              "        const buttonEl =\n",
              "          document.querySelector('#df-ad1a7420-bce4-436e-9ad9-f5a8c00faa52 button.colab-df-convert');\n",
              "        buttonEl.style.display =\n",
              "          google.colab.kernel.accessAllowed ? 'block' : 'none';\n",
              "\n",
              "        async function convertToInteractive(key) {\n",
              "          const element = document.querySelector('#df-ad1a7420-bce4-436e-9ad9-f5a8c00faa52');\n",
              "          const dataTable =\n",
              "            await google.colab.kernel.invokeFunction('convertToInteractive',\n",
              "                                                     [key], {});\n",
              "          if (!dataTable) return;\n",
              "\n",
              "          const docLinkHtml = 'Like what you see? Visit the ' +\n",
              "            '<a target=\"_blank\" href=https://colab.research.google.com/notebooks/data_table.ipynb>data table notebook</a>'\n",
              "            + ' to learn more about interactive tables.';\n",
              "          element.innerHTML = '';\n",
              "          dataTable['output_type'] = 'display_data';\n",
              "          await google.colab.output.renderOutput(dataTable, element);\n",
              "          const docLink = document.createElement('div');\n",
              "          docLink.innerHTML = docLinkHtml;\n",
              "          element.appendChild(docLink);\n",
              "        }\n",
              "      </script>\n",
              "    </div>\n",
              "  </div>\n",
              "  "
            ]
          },
          "metadata": {},
          "execution_count": 2
        }
      ]
    },
    {
      "cell_type": "code",
      "execution_count": 76,
      "metadata": {
        "id": "dODT34W8MdP0"
      },
      "outputs": [],
      "source": [
        "df=df_clean.copy()\n",
        "# Difference\n",
        "#In this data, there are lots of same data values. So, I collect them together as weekly.\n",
        "df_week = df.resample('W').mean() #resample data as weekly\n",
        "df_week_sale = df_week['Weekly_Sales']\n"
      ]
    },
    {
      "cell_type": "code",
      "execution_count": 22,
      "metadata": {
        "id": "nVD8Vje2MdP1"
      },
      "outputs": [],
      "source": [
        "#Train-Test Split\n",
        "train_data = df_week [:int(0.8*(len(df_week )))]\n",
        "test_data = df_week [int(0.8*(len(df_week ))):]"
      ]
    },
    {
      "cell_type": "code",
      "source": [
        "def encoding_scaling(train, test):\n",
        "  scaler_train = MinMaxScaler(feature_range=(0,1))\n",
        "  train = scaler_train.fit_transform(train)\n",
        "  scaler_test = MinMaxScaler(feature_range=(0,1))\n",
        "  test = scaler_test.fit_transform(test)\n",
        "  return scaler_train, train, scaler_test, test"
      ],
      "metadata": {
        "id": "zQxZGaU0QS-2"
      },
      "execution_count": 24,
      "outputs": []
    },
    {
      "cell_type": "code",
      "source": [
        "scaler_train, train, scaler_test, test  = encoding_scaling(train_data, test_data)"
      ],
      "metadata": {
        "id": "r44VkeJiQcKw"
      },
      "execution_count": 25,
      "outputs": []
    },
    {
      "cell_type": "code",
      "source": [
        "def create_features(data, lookback):\n",
        "  X, Y = [], []\n",
        "  for i in range(lookback, len(data)):\n",
        "    X.append(data[i-lookback:i,0])\n",
        "    Y.append(data[i,0])\n",
        "  return np.array(X), np.array(Y)"
      ],
      "metadata": {
        "id": "A6ndqMPiNt7M"
      },
      "execution_count": 17,
      "outputs": []
    },
    {
      "cell_type": "code",
      "source": [
        "X_train, y_train = create_features(train, 1)\n",
        "X_test, y_test = create_features(test, 1)\n",
        "print(\"X_train shape:\", X_train.shape, \" y_train shape:\", y_train.shape, \"\\nX_test shape:\", X_test.shape, \" y_test shape: \", y_test.shape)"
      ],
      "metadata": {
        "colab": {
          "base_uri": "https://localhost:8080/"
        },
        "id": "_JJwzzL5N1rd",
        "outputId": "a43e1ef4-3ba4-4f74-c454-9d989ca8de9e"
      },
      "execution_count": 26,
      "outputs": [
        {
          "output_type": "stream",
          "name": "stdout",
          "text": [
            "X_train shape: (113, 1)  y_train shape: (113,) \n",
            "X_test shape: (28, 1)  y_test shape:  (28,)\n"
          ]
        }
      ]
    },
    {
      "cell_type": "code",
      "source": [
        "X_train = np.reshape(X_train, (X_train.shape[0], 1, X_train.shape[1]))\n",
        "X_test = np.reshape(X_test, (X_test.shape[0], 1, X_test.shape[1]))\n",
        "y_train = y_train.reshape(-1,1)\n",
        "y_test = y_test.reshape(-1,1)\n",
        "print(\"X_train shape:\", X_train.shape, \" y_train shape:\", y_train.shape, \"\\nX_test shape:\", X_test.shape, \" y_test shape: \", y_test.shape)"
      ],
      "metadata": {
        "colab": {
          "base_uri": "https://localhost:8080/"
        },
        "id": "VBKdV9O2Qydk",
        "outputId": "b89fa151-54ef-40be-b939-9dab1d717173"
      },
      "execution_count": 27,
      "outputs": [
        {
          "output_type": "stream",
          "name": "stdout",
          "text": [
            "X_train shape: (113, 1, 1)  y_train shape: (113, 1) \n",
            "X_test shape: (28, 1, 1)  y_test shape:  (28, 1)\n"
          ]
        }
      ]
    },
    {
      "cell_type": "code",
      "source": [
        "def RNN_create_and_fit_model(X_train,y_train, X_test, y_test, lookback=1, epochs=50, summary=True, fit=True):\n",
        "  model = Sequential()\n",
        "  model.add(SimpleRNN(units=50, activation=\"relu\", input_shape=(X_train.shape[1], lookback)))\n",
        "  model.add(Dropout(0.2))\n",
        "  model.add(Dense(1))\n",
        "\n",
        "  model.compile(loss=\"mean_squared_error\", optimizer=\"adam\")\n",
        "  callbacks = [EarlyStopping(monitor=\"val_loss\", patience=3, verbose=1, mode=\"min\"), \n",
        "              ModelCheckpoint(filepath=\"mymodel.h5\", monitor=\"val_loss\", mode=\"min\", save_best_only=True, save_weights_only=False, verbose=1)]\n",
        "  \n",
        "  if summary:\n",
        "    model.summary()\n",
        "  \n",
        "  if fit:\n",
        "    history = model.fit(x=X_train, y=y_train, epochs=epochs, batch_size=1, \n",
        "                      validation_data=(X_test, y_test), callbacks=callbacks, shuffle=False)\n",
        "  \n",
        "  return model, history"
      ],
      "metadata": {
        "id": "9_NEjJMXQ62V"
      },
      "execution_count": 28,
      "outputs": []
    },
    {
      "cell_type": "code",
      "source": [
        "model, history = RNN_create_and_fit_model(X_train,y_train, X_test, y_test)"
      ],
      "metadata": {
        "colab": {
          "base_uri": "https://localhost:8080/"
        },
        "id": "MYuqqn6KRAQY",
        "outputId": "407fbfcb-f3f3-43c4-caac-cb0850d179a0"
      },
      "execution_count": 31,
      "outputs": [
        {
          "output_type": "stream",
          "name": "stdout",
          "text": [
            "Model: \"sequential_1\"\n",
            "_________________________________________________________________\n",
            " Layer (type)                Output Shape              Param #   \n",
            "=================================================================\n",
            " simple_rnn_1 (SimpleRNN)    (None, 50)                2600      \n",
            "                                                                 \n",
            " dropout (Dropout)           (None, 50)                0         \n",
            "                                                                 \n",
            " dense (Dense)               (None, 1)                 51        \n",
            "                                                                 \n",
            "=================================================================\n",
            "Total params: 2,651\n",
            "Trainable params: 2,651\n",
            "Non-trainable params: 0\n",
            "_________________________________________________________________\n",
            "Epoch 1/50\n",
            "101/113 [=========================>....] - ETA: 0s - loss: 0.0116\n",
            "Epoch 1: val_loss improved from inf to 0.02810, saving model to mymodel.h5\n",
            "113/113 [==============================] - 1s 4ms/step - loss: 0.0127 - val_loss: 0.0281\n",
            "Epoch 2/50\n",
            " 80/113 [====================>.........] - ETA: 0s - loss: 0.0235\n",
            "Epoch 2: val_loss improved from 0.02810 to 0.01072, saving model to mymodel.h5\n",
            "113/113 [==============================] - 0s 2ms/step - loss: 0.0207 - val_loss: 0.0107\n",
            "Epoch 3/50\n",
            "112/113 [============================>.] - ETA: 0s - loss: 0.0122\n",
            "Epoch 3: val_loss improved from 0.01072 to 0.00550, saving model to mymodel.h5\n",
            "113/113 [==============================] - 0s 2ms/step - loss: 0.0121 - val_loss: 0.0055\n",
            "Epoch 4/50\n",
            "100/113 [=========================>....] - ETA: 0s - loss: 0.0074\n",
            "Epoch 4: val_loss improved from 0.00550 to 0.00261, saving model to mymodel.h5\n",
            "113/113 [==============================] - 0s 2ms/step - loss: 0.0087 - val_loss: 0.0026\n",
            "Epoch 5/50\n",
            " 73/113 [==================>...........] - ETA: 0s - loss: 0.0056\n",
            "Epoch 5: val_loss improved from 0.00261 to 0.00061, saving model to mymodel.h5\n",
            "113/113 [==============================] - 0s 2ms/step - loss: 0.0084 - val_loss: 6.0969e-04\n",
            "Epoch 6/50\n",
            "104/113 [==========================>...] - ETA: 0s - loss: 0.0051\n",
            "Epoch 6: val_loss did not improve from 0.00061\n",
            "113/113 [==============================] - 0s 2ms/step - loss: 0.0053 - val_loss: 0.0011\n",
            "Epoch 7/50\n",
            " 88/113 [======================>.......] - ETA: 0s - loss: 0.0036\n",
            "Epoch 7: val_loss did not improve from 0.00061\n",
            "113/113 [==============================] - 0s 2ms/step - loss: 0.0055 - val_loss: 9.7094e-04\n",
            "Epoch 8/50\n",
            " 96/113 [========================>.....] - ETA: 0s - loss: 0.0037\n",
            "Epoch 8: val_loss did not improve from 0.00061\n",
            "113/113 [==============================] - 0s 2ms/step - loss: 0.0056 - val_loss: 0.0016\n",
            "Epoch 8: early stopping\n"
          ]
        }
      ]
    },
    {
      "cell_type": "code",
      "source": [
        "def RNN_model_evaluate(model):\n",
        "  loss = model.evaluate(X_test, y_test, batch_size=1)\n",
        "  print(\"Test Loss: %.2f\" % (100 * loss))\n",
        "  plt.figure(figsize=(10,5))\n",
        "  plt.plot(history.history[\"loss\"], color=\"r\", label=\"Training Loss\")\n",
        "  plt.plot(history.history[\"val_loss\"], color=\"b\", label=\"Validation Loss\")\n",
        "  plt.legend(loc=\"upper right\")\n",
        "  plt.xlabel(\"Epoch\", fontsize=16)\n",
        "  plt.ylabel(\"Loss\", fontsize=16)\n",
        "  plt.ylim([0, max(plt.ylim())])\n",
        "  plt.title(\"Training and Validation Loss\", fontsize=16);"
      ],
      "metadata": {
        "id": "yCdKZ2LWRPKi"
      },
      "execution_count": 32,
      "outputs": []
    },
    {
      "cell_type": "code",
      "source": [
        "RNN_model_evaluate(model)"
      ],
      "metadata": {
        "colab": {
          "base_uri": "https://localhost:8080/",
          "height": 392
        },
        "id": "uAsPNcB6RYVt",
        "outputId": "58ada65c-440e-414e-91e8-477f5c5031c0"
      },
      "execution_count": 33,
      "outputs": [
        {
          "output_type": "stream",
          "name": "stdout",
          "text": [
            "28/28 [==============================] - 0s 1ms/step - loss: 0.0016\n",
            "Test Loss: 0.16\n"
          ]
        },
        {
          "output_type": "display_data",
          "data": {
            "text/plain": [
              "<Figure size 720x360 with 1 Axes>"
            ],
            "image/png": "[encoded data removed]"
          },
          "metadata": {
            "needs_background": "light"
          }
        }
      ]
    },
    {
      "cell_type": "code",
      "source": [
        "test_predict = model.predict(X_test)\n",
        "test_predict = scaler_test.fit_transform(test_predict) \n",
        "y_train = scaler_train.fit_transform(y_train)\n",
        "y_test = scaler_test.fit_transform(y_test)\n",
        "RMSE_test = np.sqrt(mean_squared_error(y_test, test_predict))\n",
        "print(\"############### Loss ###############\")\n",
        "print(\"\\nRMSE Test: \", RMSE_test)"
      ],
      "metadata": {
        "colab": {
          "base_uri": "https://localhost:8080/"
        },
        "id": "EQCUbIKaSxg-",
        "outputId": "d4bcebf3-0de6-4105-e773-bec0b513a770"
      },
      "execution_count": 52,
      "outputs": [
        {
          "output_type": "stream",
          "name": "stdout",
          "text": [
            "1/1 [==============================] - 0s 14ms/step\n",
            "############### Loss ###############\n",
            "\n",
            "RMSE Test:  0.028149333987169133\n"
          ]
        }
      ]
    },
    {
      "cell_type": "markdown",
      "source": [
        "From the RMSE results, we can see that(ARIMA (RMSE = 0.098), VAR((RMSE = 0.099)), the RNN (RMSE = 0.028)get the best predict result. "
      ],
      "metadata": {
        "id": "kO7V4uYDznME"
      }
    }
  ],
  "metadata": {
    "kernelspec": {
      "display_name": "Python 3",
      "language": "python",
      "name": "python3"
    },
    "language_info": {
      "codemirror_mode": {
        "name": "ipython",
        "version": 3
      },
      "file_extension": ".py",
      "mimetype": "text/x-python",
      "name": "python",
      "nbconvert_exporter": "python",
      "pygments_lexer": "ipython3",
      "version": "3.9.4 (tags/v3.9.4:1f2e308, Apr  6 2021, 13:40:21) [MSC v.1928 64 bit (AMD64)]"
    },
    "orig_nbformat": 4,
    "vscode": {
      "interpreter": {
        "hash": "501834c540f8b330c04c1d43ec1666643355d13f80c9caf7e1080236b3fb263f"
      }
    },
    "colab": {
      "provenance": []
    }
  },
  "nbformat": 4,
  "nbformat_minor": 0
}
